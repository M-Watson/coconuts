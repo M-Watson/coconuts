{
 "cells": [
  {
   "cell_type": "code",
   "execution_count": 8,
   "metadata": {
    "collapsed": true
   },
   "outputs": [],
   "source": [
    "import requests\n",
    "import xml.etree.ElementTree as ET \n"
   ]
  },
  {
   "cell_type": "code",
   "execution_count": 29,
   "metadata": {
    "collapsed": true
   },
   "outputs": [],
   "source": [
    "def parseXML(xml_string): \n",
    "  \n",
    "    # create element tree object \n",
    "    tree = ET.fromstring(xml_string) \n",
    "    # get root element \n",
    "    root = tree #tree.getroot() \n",
    "  \n",
    "    # create empty list for news items \n",
    "    prediction_list = [] \n",
    "  \n",
    "    # iterate news items \n",
    "    for child in root.iter('prediction'):\n",
    "        print(child.tag, child.attrib)\n",
    "\n",
    "  \n",
    "        # empty news dictionary \n",
    "        prediction_dict = {}\n",
    "        for child_2 in child:\n",
    "            prediction_dict[child_2.tag] = child_2.text\n",
    "  \n",
    "        # append news dictionary to news items list \n",
    "        prediction_list.append(prediction_dict) \n",
    "      \n",
    "    # return news items list \n",
    "    return prediction_list "
   ]
  },
  {
   "cell_type": "code",
   "execution_count": 2,
   "metadata": {
    "collapsed": true
   },
   "outputs": [],
   "source": [
    "querey_url = \"https://www.dcstreetcar.com/nextbus/nextbusproxy-3.php?%s\"%(\"command=predictions&a=dc-streetcar&r=h_route&s=ben15west\")"
   ]
  },
  {
   "cell_type": "code",
   "execution_count": 3,
   "metadata": {
    "collapsed": false
   },
   "outputs": [
    {
     "data": {
      "text/plain": [
       "'https://www.dcstreetcar.com/nextbus/nextbusproxy-3.php?command=predictions&a=dc-streetcar&r=h_route&s=ben15west'"
      ]
     },
     "execution_count": 3,
     "metadata": {},
     "output_type": "execute_result"
    }
   ],
   "source": [
    "querey_url\n"
   ]
  },
  {
   "cell_type": "code",
   "execution_count": 4,
   "metadata": {
    "collapsed": true
   },
   "outputs": [],
   "source": [
    "res = requests.get(querey_url)"
   ]
  },
  {
   "cell_type": "code",
   "execution_count": 5,
   "metadata": {
    "collapsed": false
   },
   "outputs": [
    {
     "data": {
      "text/plain": [
       "<Response [200]>"
      ]
     },
     "execution_count": 5,
     "metadata": {},
     "output_type": "execute_result"
    }
   ],
   "source": [
    "res"
   ]
  },
  {
   "cell_type": "code",
   "execution_count": 6,
   "metadata": {
    "collapsed": false
   },
   "outputs": [
    {
     "data": {
      "text/plain": [
       "'<?xml version=\"1.0\" encoding=\"utf-8\" ?> \\n<body copyright=\"All data copyright DC Streetcar 2018.\">\\n<predictions agencyTitle=\"DC Streetcar\" routeTitle=\"H/Benning Line\" routeTag=\"h_route\" stopTitle=\"Benning Rd @ 15th St Westbound\" stopTag=\"ben15west\">\\n  <direction title=\"Westbound\">\\n  <prediction epochTime=\"1539171111764\" seconds=\"171\" minutes=\"2\" isDeparture=\"false\" dirTag=\"west\" vehicle=\"202\" block=\"4\" />\\n  <prediction epochTime=\"1539171395203\" seconds=\"454\" minutes=\"7\" isDeparture=\"false\" affectedByLayover=\"true\" dirTag=\"west\" vehicle=\"201\" block=\"1\" />\\n  <prediction epochTime=\"1539172515304\" seconds=\"1574\" minutes=\"26\" isDeparture=\"false\" affectedByLayover=\"true\" dirTag=\"west\" vehicle=\"203\" block=\"3\" />\\n  <prediction epochTime=\"1539173123710\" seconds=\"2183\" minutes=\"36\" isDeparture=\"false\" affectedByLayover=\"true\" dirTag=\"west\" vehicle=\"202\" block=\"4\" />\\n  <prediction epochTime=\"1539173407149\" seconds=\"2466\" minutes=\"41\" isDeparture=\"false\" affectedByLayover=\"true\" dirTag=\"west\" vehicle=\"201\" block=\"1\" />\\n  </direction>\\n<message text=\"Thanks for taking transit\" priority=\"Normal\"/>\\n</predictions>\\n</body>\\n'"
      ]
     },
     "execution_count": 6,
     "metadata": {},
     "output_type": "execute_result"
    }
   ],
   "source": [
    "res.text"
   ]
  },
  {
   "cell_type": "code",
   "execution_count": 7,
   "metadata": {
    "collapsed": false
   },
   "outputs": [
    {
     "data": {
      "text/plain": [
       "b'<?xml version=\"1.0\" encoding=\"utf-8\" ?> \\n<body copyright=\"All data copyright DC Streetcar 2018.\">\\n<predictions agencyTitle=\"DC Streetcar\" routeTitle=\"H/Benning Line\" routeTag=\"h_route\" stopTitle=\"Benning Rd @ 15th St Westbound\" stopTag=\"ben15west\">\\n  <direction title=\"Westbound\">\\n  <prediction epochTime=\"1539171111764\" seconds=\"171\" minutes=\"2\" isDeparture=\"false\" dirTag=\"west\" vehicle=\"202\" block=\"4\" />\\n  <prediction epochTime=\"1539171395203\" seconds=\"454\" minutes=\"7\" isDeparture=\"false\" affectedByLayover=\"true\" dirTag=\"west\" vehicle=\"201\" block=\"1\" />\\n  <prediction epochTime=\"1539172515304\" seconds=\"1574\" minutes=\"26\" isDeparture=\"false\" affectedByLayover=\"true\" dirTag=\"west\" vehicle=\"203\" block=\"3\" />\\n  <prediction epochTime=\"1539173123710\" seconds=\"2183\" minutes=\"36\" isDeparture=\"false\" affectedByLayover=\"true\" dirTag=\"west\" vehicle=\"202\" block=\"4\" />\\n  <prediction epochTime=\"1539173407149\" seconds=\"2466\" minutes=\"41\" isDeparture=\"false\" affectedByLayover=\"true\" dirTag=\"west\" vehicle=\"201\" block=\"1\" />\\n  </direction>\\n<message text=\"Thanks for taking transit\" priority=\"Normal\"/>\\n</predictions>\\n</body>\\n'"
      ]
     },
     "execution_count": 7,
     "metadata": {},
     "output_type": "execute_result"
    }
   ],
   "source": [
    "res.content"
   ]
  },
  {
   "cell_type": "code",
   "execution_count": 11,
   "metadata": {
    "collapsed": false
   },
   "outputs": [],
   "source": [
    "root = ET.fromstring(res.content)"
   ]
  },
  {
   "cell_type": "code",
   "execution_count": 67,
   "metadata": {
    "collapsed": false
   },
   "outputs": [
    {
     "ename": "TypeError",
     "evalue": "'str' object is not callable",
     "output_type": "error",
     "traceback": [
      "\u001b[0;31m---------------------------------------------------------------------------\u001b[0m",
      "\u001b[0;31mTypeError\u001b[0m                                 Traceback (most recent call last)",
      "\u001b[0;32m<ipython-input-67-384b52b548d5>\u001b[0m in \u001b[0;36m<module>\u001b[0;34m()\u001b[0m\n\u001b[1;32m      1\u001b[0m \u001b[1;32mfor\u001b[0m \u001b[0mchild\u001b[0m \u001b[1;32min\u001b[0m \u001b[0mroot\u001b[0m\u001b[1;33m.\u001b[0m\u001b[0miter\u001b[0m\u001b[1;33m(\u001b[0m\u001b[1;34m'*'\u001b[0m\u001b[1;33m)\u001b[0m\u001b[1;33m:\u001b[0m\u001b[1;33m\u001b[0m\u001b[0m\n\u001b[0;32m----> 2\u001b[0;31m     \u001b[0mprint\u001b[0m\u001b[1;33m(\u001b[0m\u001b[0mchild\u001b[0m\u001b[1;33m.\u001b[0m\u001b[0mtag\u001b[0m\u001b[1;33m(\u001b[0m\u001b[1;34m'prediction'\u001b[0m\u001b[1;33m)\u001b[0m\u001b[1;33m)\u001b[0m\u001b[1;33m\u001b[0m\u001b[0m\n\u001b[0m",
      "\u001b[0;31mTypeError\u001b[0m: 'str' object is not callable"
     ]
    }
   ],
   "source": [
    "for child in root.iter('*'):\n",
    "    print(child.tag('prediction'))"
   ]
  },
  {
   "cell_type": "code",
   "execution_count": 77,
   "metadata": {
    "collapsed": false
   },
   "outputs": [
    {
     "name": "stdout",
     "output_type": "stream",
     "text": [
      "\n",
      "Key: prediction,Child: prediction,  Attrib: epochTime,  AttribResult:  1539171111764\n",
      "Key: prediction,Child: prediction,  Attrib: seconds,  AttribResult:  171\n",
      "Key: prediction,Child: prediction,  Attrib: minutes,  AttribResult:  2\n",
      "Key: prediction,Child: prediction,  Attrib: isDeparture,  AttribResult:  false\n",
      "Key: prediction,Child: prediction,  Attrib: dirTag,  AttribResult:  west\n",
      "Key: prediction,Child: prediction,  Attrib: vehicle,  AttribResult:  202\n",
      "Key: prediction,Child: prediction,  Attrib: block,  AttribResult:  4\n",
      "Key: prediction,Child: prediction,  Attrib: epochTime,  AttribResult:  1539171395203\n",
      "Key: prediction,Child: prediction,  Attrib: seconds,  AttribResult:  454\n",
      "Key: prediction,Child: prediction,  Attrib: minutes,  AttribResult:  7\n",
      "Key: prediction,Child: prediction,  Attrib: isDeparture,  AttribResult:  false\n",
      "Key: prediction,Child: prediction,  Attrib: dirTag,  AttribResult:  west\n",
      "Key: prediction,Child: prediction,  Attrib: vehicle,  AttribResult:  201\n",
      "Key: prediction,Child: prediction,  Attrib: block,  AttribResult:  1\n",
      "Key: prediction,Child: prediction,  Attrib: epochTime,  AttribResult:  1539172515304\n",
      "Key: prediction,Child: prediction,  Attrib: seconds,  AttribResult:  1574\n",
      "Key: prediction,Child: prediction,  Attrib: minutes,  AttribResult:  26\n",
      "Key: prediction,Child: prediction,  Attrib: isDeparture,  AttribResult:  false\n",
      "Key: prediction,Child: prediction,  Attrib: dirTag,  AttribResult:  west\n",
      "Key: prediction,Child: prediction,  Attrib: vehicle,  AttribResult:  203\n",
      "Key: prediction,Child: prediction,  Attrib: block,  AttribResult:  3\n",
      "Key: prediction,Child: prediction,  Attrib: epochTime,  AttribResult:  1539173123710\n",
      "Key: prediction,Child: prediction,  Attrib: seconds,  AttribResult:  2183\n",
      "Key: prediction,Child: prediction,  Attrib: minutes,  AttribResult:  36\n",
      "Key: prediction,Child: prediction,  Attrib: isDeparture,  AttribResult:  false\n",
      "Key: prediction,Child: prediction,  Attrib: dirTag,  AttribResult:  west\n",
      "Key: prediction,Child: prediction,  Attrib: vehicle,  AttribResult:  202\n",
      "Key: prediction,Child: prediction,  Attrib: block,  AttribResult:  4\n",
      "Key: prediction,Child: prediction,  Attrib: epochTime,  AttribResult:  1539173407149\n",
      "Key: prediction,Child: prediction,  Attrib: seconds,  AttribResult:  2466\n",
      "Key: prediction,Child: prediction,  Attrib: minutes,  AttribResult:  41\n",
      "Key: prediction,Child: prediction,  Attrib: isDeparture,  AttribResult:  false\n",
      "Key: prediction,Child: prediction,  Attrib: dirTag,  AttribResult:  west\n",
      "Key: prediction,Child: prediction,  Attrib: vehicle,  AttribResult:  201\n",
      "Key: prediction,Child: prediction,  Attrib: block,  AttribResult:  1\n",
      "\n",
      "Key: direction,Child: direction,  Attrib: title,  AttribResult:  Westbound\n",
      "\n",
      "Key: body,Child: body,  Attrib: copyright,  AttribResult:  All data copyright DC Streetcar 2018.\n",
      "\n",
      "Key: predictions,Child: predictions,  Attrib: agencyTitle,  AttribResult:  DC Streetcar\n",
      "Key: predictions,Child: predictions,  Attrib: routeTitle,  AttribResult:  H/Benning Line\n",
      "Key: predictions,Child: predictions,  Attrib: routeTag,  AttribResult:  h_route\n",
      "Key: predictions,Child: predictions,  Attrib: stopTitle,  AttribResult:  Benning Rd @ 15th St Westbound\n",
      "Key: predictions,Child: predictions,  Attrib: stopTag,  AttribResult:  ben15west\n"
     ]
    }
   ],
   "source": [
    "for key in xml_tree.keys():\n",
    "    print('')\n",
    "    for child in root.iter(key):\n",
    "        for attribs in xml_tree_false_layover[key]:\n",
    "            print(\"Key: %s,Child: %s,  Attrib: %s,  AttribResult:  %s\"%(key,child.tag,attribs,child.attrib[attribs]))\n"
   ]
  },
  {
   "cell_type": "code",
   "execution_count": 42,
   "metadata": {
    "collapsed": false
   },
   "outputs": [
    {
     "name": "stdout",
     "output_type": "stream",
     "text": [
      "{'message', 'direction'}\n"
     ]
    }
   ],
   "source": [
    "tree = ET.fromstring(res.content)\n",
    "root = tree\n",
    "for child in root:\n",
    "  print({x.tag for x in root.findall(child.tag+\"/*\")})"
   ]
  },
  {
   "cell_type": "code",
   "execution_count": 31,
   "metadata": {
    "collapsed": false
   },
   "outputs": [
    {
     "name": "stdout",
     "output_type": "stream",
     "text": [
      "prediction {'minutes': '2', 'seconds': '171', 'vehicle': '202', 'dirTag': 'west', 'epochTime': '1539171111764', 'block': '4', 'isDeparture': 'false'}\n",
      "prediction {'minutes': '7', 'seconds': '454', 'vehicle': '201', 'dirTag': 'west', 'epochTime': '1539171395203', 'block': '1', 'isDeparture': 'false', 'affectedByLayover': 'true'}\n",
      "prediction {'minutes': '26', 'seconds': '1574', 'vehicle': '203', 'dirTag': 'west', 'epochTime': '1539172515304', 'block': '3', 'isDeparture': 'false', 'affectedByLayover': 'true'}\n",
      "prediction {'minutes': '36', 'seconds': '2183', 'vehicle': '202', 'dirTag': 'west', 'epochTime': '1539173123710', 'block': '4', 'isDeparture': 'false', 'affectedByLayover': 'true'}\n",
      "prediction {'minutes': '41', 'seconds': '2466', 'vehicle': '201', 'dirTag': 'west', 'epochTime': '1539173407149', 'block': '1', 'isDeparture': 'false', 'affectedByLayover': 'true'}\n"
     ]
    }
   ],
   "source": [
    "a = parseXML(res.content)"
   ]
  },
  {
   "cell_type": "code",
   "execution_count": 33,
   "metadata": {
    "collapsed": false
   },
   "outputs": [
    {
     "data": {
      "text/plain": [
       "[{}, {}, {}, {}, {}]"
      ]
     },
     "execution_count": 33,
     "metadata": {},
     "output_type": "execute_result"
    }
   ],
   "source": [
    "a"
   ]
  },
  {
   "cell_type": "code",
   "execution_count": 75,
   "metadata": {
    "collapsed": false
   },
   "outputs": [],
   "source": [
    "xml_tree_true_layover = {'body':['copyright'],\n",
    "            'predictions':['agencyTitle','routeTitle','routeTag','stopTitle','stopTag'],\n",
    "            'direction':['title'],\n",
    "            'prediction':['epochTime','seconds','minutes','isDeparture','dirTag','vehicle','block','affectedByLayover']\n",
    "}\n",
    "\n",
    "xml_tree_false_layover = {'body':['copyright'],\n",
    "            'predictions':['agencyTitle','routeTitle','routeTag','stopTitle','stopTag'],\n",
    "            'direction':['title'],\n",
    "            'prediction':['epochTime','seconds','minutes','isDeparture','dirTag','vehicle','block']\n",
    "}"
   ]
  },
  {
   "cell_type": "code",
   "execution_count": 100,
   "metadata": {
    "collapsed": false
   },
   "outputs": [
    {
     "data": {
      "text/plain": [
       "{'block': '4',\n",
       " 'dirTag': 'west',\n",
       " 'epochTime': '1539171111764',\n",
       " 'isDeparture': 'false',\n",
       " 'minutes': '2',\n",
       " 'seconds': '171',\n",
       " 'vehicle': '202'}"
      ]
     },
     "execution_count": 100,
     "metadata": {},
     "output_type": "execute_result"
    }
   ],
   "source": [
    "root[0][0][0].attrib\n"
   ]
  },
  {
   "cell_type": "markdown",
   "metadata": {},
   "source": [
    "                                                body   -----------------------------------------------------\n",
    "                                                 |\n",
    "                                            predictions  ----------------------------------------------------|\n",
    "                                                 |                                                           |\n",
    "               |---------------------|---------------------|---------------------|                       {\n",
    "          prediction[0]         prediction[1]        prediction[2]         prediction[3]\n",
    "               |\n",
    "               |\n",
    "     {epochTime,seconds,minutes,isDeparture,dirTag,vehicle,block,affectedByLayover}         "
   ]
  },
  {
   "cell_type": "code",
   "execution_count": null,
   "metadata": {
    "collapsed": true
   },
   "outputs": [],
   "source": []
  }
 ],
 "metadata": {
  "anaconda-cloud": {},
  "kernelspec": {
   "display_name": "Python [default]",
   "language": "python",
   "name": "python3"
  },
  "language_info": {
   "codemirror_mode": {
    "name": "ipython",
    "version": 3
   },
   "file_extension": ".py",
   "mimetype": "text/x-python",
   "name": "python",
   "nbconvert_exporter": "python",
   "pygments_lexer": "ipython3",
   "version": "3.5.4"
  }
 },
 "nbformat": 4,
 "nbformat_minor": 2
}
