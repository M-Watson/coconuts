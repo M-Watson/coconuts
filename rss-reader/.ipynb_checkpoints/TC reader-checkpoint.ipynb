{
 "cells": [
  {
   "cell_type": "code",
   "execution_count": 11,
   "metadata": {
    "collapsed": true
   },
   "outputs": [],
   "source": [
    "import pandas as pd\n",
    "import requests\n",
    "from bs4 import BeautifulSoup as bs\n",
    "import xml.etree.ElementTree as ET"
   ]
  },
  {
   "cell_type": "code",
   "execution_count": 93,
   "metadata": {
    "collapsed": true
   },
   "outputs": [],
   "source": [
    "url_feed = 'https://techcrunch.com/feed?page=2'"
   ]
  },
  {
   "cell_type": "code",
   "execution_count": 94,
   "metadata": {
    "collapsed": false
   },
   "outputs": [],
   "source": [
    "feed = requests.get(url_feed)"
   ]
  },
  {
   "cell_type": "code",
   "execution_count": 53,
   "metadata": {
    "collapsed": false
   },
   "outputs": [],
   "source": [
    "xml = feed.content\n",
    "tree = ET.fromstring(xml)"
   ]
  },
  {
   "cell_type": "code",
   "execution_count": 54,
   "metadata": {
    "collapsed": false
   },
   "outputs": [
    {
     "name": "stdout",
     "output_type": "stream",
     "text": [
      "title: Ford is bringing an electric Transit van to Europe by 2021 \n",
      "\n",
      "\tDescription: https://techcrunch.com/2019/04/02/ford-is-bringing-an-electric-transit-van-to-europe-by-2021/ \n",
      "\n",
      "\tlink: https://techcrunch.com/2019/04/02/ford-is-bringing-an-electric-transit-van-to-europe-by-2021/#respond\n",
      "\n"
     ]
    }
   ],
   "source": [
    "for item in tree[0].iter('item'):\n",
    "    title = item[0].text\n",
    "    description = item[1].text\n",
    "    link = item[2].text\n",
    "    category = item[3].text\n",
    "    pubDate = item[4].text\n",
    "    guid = item[5].text\n",
    "    media = item[6].text\n",
    "    \n",
    "print('title: {} \\n\\n\\tDescription: {} \\n\\n\\tlink: {}\\n'.format(title,description,link))"
   ]
  },
  {
   "cell_type": "code",
   "execution_count": 62,
   "metadata": {
    "collapsed": false
   },
   "outputs": [],
   "source": [
    "i = 0\n",
    "item_index_list = []\n",
    "for i in range(len(tree[0])):\n",
    "    if tree[0][i].tag == 'item':\n",
    "        item_index_list.append(i)\n",
    "    i+=1\n"
   ]
  },
  {
   "cell_type": "code",
   "execution_count": 65,
   "metadata": {
    "collapsed": false
   },
   "outputs": [],
   "source": [
    "ii = 0\n",
    "tags = []\n",
    "for ii in range(len(tree[0][item_index_list[0]])):\n",
    "    \n",
    "    tags.append(tree[0][item_index_list[0]][ii].tag)"
   ]
  },
  {
   "cell_type": "code",
   "execution_count": 66,
   "metadata": {
    "collapsed": false
   },
   "outputs": [
    {
     "data": {
      "text/plain": [
       "['title',\n",
       " 'link',\n",
       " 'comments',\n",
       " 'pubDate',\n",
       " '{http://purl.org/dc/elements/1.1/}creator',\n",
       " 'category',\n",
       " 'guid',\n",
       " 'description',\n",
       " '{http://purl.org/rss/1.0/modules/content/}encoded',\n",
       " '{http://wellformedweb.org/CommentAPI/}commentRss',\n",
       " '{http://purl.org/rss/1.0/modules/slash/}comments',\n",
       " '{com-wordpress:feed-additions:1}post-id']"
      ]
     },
     "execution_count": 66,
     "metadata": {},
     "output_type": "execute_result"
    }
   ],
   "source": [
    "tags"
   ]
  },
  {
   "cell_type": "code",
   "execution_count": 69,
   "metadata": {
    "collapsed": false
   },
   "outputs": [
    {
     "data": {
      "text/plain": [
       "'Rippling raises $45M at $270M to be the biz app identity layer'"
      ]
     },
     "execution_count": 69,
     "metadata": {},
     "output_type": "execute_result"
    }
   ],
   "source": [
    "tree[0][item_index_list[0]][0].text"
   ]
  },
  {
   "cell_type": "code",
   "execution_count": 73,
   "metadata": {
    "collapsed": false
   },
   "outputs": [],
   "source": [
    "tag_index = 0\n",
    "tag_dict = {}\n",
    "for tag in tags:\n",
    "    tag_dict[tag] = tree[0][item_index_list[0]][tag_index].text\n",
    "    tag_index +=1"
   ]
  },
  {
   "cell_type": "code",
   "execution_count": 76,
   "metadata": {
    "collapsed": false
   },
   "outputs": [
    {
     "data": {
      "text/plain": [
       "'https://techcrunch.com/2019/04/03/rippling-45-million/'"
      ]
     },
     "execution_count": 76,
     "metadata": {},
     "output_type": "execute_result"
    }
   ],
   "source": [
    "tag_dict['link']"
   ]
  },
  {
   "cell_type": "code",
   "execution_count": 95,
   "metadata": {
    "collapsed": false
   },
   "outputs": [
    {
     "name": "stdout",
     "output_type": "stream",
     "text": [
      "11\n",
      "12\n",
      "13\n",
      "14\n",
      "15\n",
      "16\n",
      "17\n",
      "18\n",
      "19\n",
      "20\n",
      "21\n",
      "22\n",
      "23\n",
      "24\n",
      "25\n",
      "26\n",
      "27\n",
      "28\n",
      "29\n",
      "30\n"
     ]
    }
   ],
   "source": [
    "# First I need to convert the feed into an XML tree\n",
    "xml = feed.content\n",
    "tree = ET.fromstring(xml)\n",
    "\n",
    "# Second I go through and look to see which are 'items' meaning an article\n",
    "i = 0\n",
    "item_index_list = []\n",
    "for i in range(len(tree[0])):\n",
    "    if tree[0][i].tag == 'item':\n",
    "        item_index_list.append(i)\n",
    "    i+=1\n",
    "\n",
    "# Then looping through the items\n",
    "list_of_articles = []\n",
    "for item_index in item_index_list:\n",
    "    print(item_index)\n",
    "    #Since I have the tags already I am leaving out the tag finding code for now\n",
    "    #then I go through the tags and add them to a dictionary\n",
    "    tag_index = 0\n",
    "    tag_dict = {}\n",
    "    for tag in tags:\n",
    "        tag_dict[tag] = tree[0][item_index][tag_index].text\n",
    "        tag_index +=1\n",
    "    list_of_articles.append(tag_dict)\n",
    "    \n",
    "\n",
    "    "
   ]
  },
  {
   "cell_type": "code",
   "execution_count": 98,
   "metadata": {
    "collapsed": false
   },
   "outputs": [
    {
     "name": "stdout",
     "output_type": "stream",
     "text": [
      " * On the heels of a $40 million round, TriNetX brings its services for drug trials to Europe\n",
      "\t- https://techcrunch.com/2019/04/03/on-the-heels-of-a-40-million-round-trinetx-brings-its-services-for-drug-trials-to-europe/\n",
      " * Torch take $10M to teach empathy to executives\n",
      "\t- https://techcrunch.com/2019/04/03/torch-executive-coaching/\n",
      " * Scribd kicks off its original content initiative with a book about Robert Mueller\n",
      "\t- https://techcrunch.com/2019/04/03/scribd-originals/\n",
      " * Fleksy’s AI keyboard is getting a store to put mini apps at chatters’ fingertips\n",
      "\t- https://techcrunch.com/2019/04/03/fleksys-ai-keyboard-is-getting-a-store-to-put-mini-apps-at-chatters-fingertips/\n",
      " * WhatsApp adds a new privacy setting for groups in another effort to clamp down on fake news\n",
      "\t- https://techcrunch.com/2019/04/03/whatsapp-adds-a-new-privacy-setting-for-groups-in-another-effort-to-clamp-down-on-fake-news/\n",
      " * Joaquin Phoenix goes full Rupert Pupkin in new ‘Joker’ trailer\n",
      "\t- https://techcrunch.com/2019/04/03/joaquin-phoenix-goes-full-rupert-pupkin-in-new-joker-trailer/\n",
      " * Talk Lyft’s stock market debut with TechCrunch writers\n",
      "\t- https://techcrunch.com/2019/04/03/talk-lyfts-market-debut-with-techcrunch-writers/\n",
      " * Rippling raises $45M at $270M to be the biz app identity layer\n",
      "\t- https://techcrunch.com/2019/04/03/rippling-45-million/\n",
      " * Singapore’s proposed ‘fake news’ law could stifle free speech\n",
      "\t- https://techcrunch.com/2019/04/03/singapore-fake-news-law-free-speech/\n",
      " * Okta unveils $50M in-house venture capital fund\n",
      "\t- https://techcrunch.com/2019/04/03/okta-unveils-50m-in-house-venture-capital-fund/\n",
      " * Adobe brings content-aware fill for videos to After Effects\n",
      "\t- https://techcrunch.com/2019/04/03/adobe-brings-content-aware-fill-for-videos-to-after-effects/\n",
      " * Enterprise blockchain startup Offchain Labs scores $3.7M seed round\n",
      "\t- https://techcrunch.com/2019/04/03/enterprise-blockchain-startup-offchain-labs-scores-3-7m-seed-round/\n",
      " * Red Points closes $38M Series C for its ‘antivirus’ SaaS for brands\n",
      "\t- https://techcrunch.com/2019/04/03/red-points-closes-38m-series-c-for-its-antivirus-saas-for-brands/\n",
      " * Run.AI raises $13M for its distributed machine learning platform\n",
      "\t- https://techcrunch.com/2019/04/03/run-ai-raises-13m-for-its-distributed-machine-learning-platform/\n",
      " * Adobe Dimension CC can now render images in the cloud\n",
      "\t- https://techcrunch.com/2019/04/03/adobe-dimension-cc-can-now-render-images-in-the-cloud/\n",
      " * Google Assistant can now talk like John Legend\n",
      "\t- https://techcrunch.com/2019/04/03/google-assistant-can-now-talk-like-john-legend/\n",
      " * Developers – sign up to hack at the TC Hackathon at VivaTech\n",
      "\t- https://techcrunch.com/2019/04/03/developers-sign-up-to-hack-at-the-tc-hackathon-at-vivatech/\n",
      " * Wayve claims ‘world first’ in driving a car autonomously with only its AI and a SatNav\n",
      "\t- https://techcrunch.com/2019/04/03/wayve-claims-world-first-in-driving-a-car-autonomously-with-only-its-ai-and-a-satnav/\n",
      " * Onfido, which verifies IDs using AI, nabs $50M from SoftBank, Salesforce, Microsoft and more\n",
      "\t- https://techcrunch.com/2019/04/03/onfido-which-verifies-ids-using-ai-nabs-50m-from-softbank-salesforce-microsoft-and-more/\n",
      " * OpenGamma raises $10M in a growth funding round led by Dawn Capital\n",
      "\t- https://techcrunch.com/2019/04/03/opengamma-raises-10m-in-a-growth-funding-round-led-by-dawn-capital/\n"
     ]
    }
   ],
   "source": [
    "iii = 0\n",
    "for iii in range(len(list_of_articles)):\n",
    "    print(' * ' + list_of_articles[iii]['title'] + '\\n\\t- ' + list_of_articles[iii]['link'])\n",
    "    iii += 1"
   ]
  },
  {
   "cell_type": "code",
   "execution_count": null,
   "metadata": {
    "collapsed": true
   },
   "outputs": [],
   "source": []
  }
 ],
 "metadata": {
  "anaconda-cloud": {},
  "kernelspec": {
   "display_name": "Python [default]",
   "language": "python",
   "name": "python3"
  },
  "language_info": {
   "codemirror_mode": {
    "name": "ipython",
    "version": 3
   },
   "file_extension": ".py",
   "mimetype": "text/x-python",
   "name": "python",
   "nbconvert_exporter": "python",
   "pygments_lexer": "ipython3",
   "version": "3.5.4"
  }
 },
 "nbformat": 4,
 "nbformat_minor": 2
}
