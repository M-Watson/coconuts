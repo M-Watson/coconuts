{
 "cells": [
  {
   "cell_type": "code",
   "execution_count": 2,
   "metadata": {
    "collapsed": true
   },
   "outputs": [],
   "source": [
    "import xml.etree.ElementTree as ET\n",
    "import requests"
   ]
  },
  {
   "cell_type": "code",
   "execution_count": 14,
   "metadata": {
    "collapsed": true
   },
   "outputs": [],
   "source": [
    "url = 'https://phys.org/rss-feed/'\n",
    "\n",
    "headers = {\n",
    "    'User-Agent': 'My User Agent 1.0',\n",
    "    'From': 'youremail@domain.com'  # This is another valid field\n",
    "}\n",
    "\n",
    "response = requests.get(url, headers=headers)\n",
    "\n",
    "xml = response.content"
   ]
  },
  {
   "cell_type": "code",
   "execution_count": 54,
   "metadata": {
    "collapsed": false
   },
   "outputs": [],
   "source": [
    "tree = ET.fromstring(xml)\n"
   ]
  },
  {
   "cell_type": "code",
   "execution_count": 24,
   "metadata": {
    "collapsed": false
   },
   "outputs": [
    {
     "data": {
      "text/plain": [
       "{'version': '2.0'}"
      ]
     },
     "execution_count": 24,
     "metadata": {},
     "output_type": "execute_result"
    }
   ],
   "source": [
    "tree.attrib"
   ]
  },
  {
   "cell_type": "code",
   "execution_count": 12,
   "metadata": {
    "collapsed": false
   },
   "outputs": [
    {
     "data": {
      "text/plain": [
       "<Response [200]>"
      ]
     },
     "execution_count": 12,
     "metadata": {},
     "output_type": "execute_result"
    }
   ],
   "source": [
    "response\n"
   ]
  },
  {
   "cell_type": "code",
   "execution_count": 35,
   "metadata": {
    "collapsed": false
   },
   "outputs": [
    {
     "name": "stdout",
     "output_type": "stream",
     "text": [
      "channel \n",
      "\n",
      "                    \n"
     ]
    }
   ],
   "source": [
    "for child in tree:\n",
    "    print(child.tag, child.text)"
   ]
  },
  {
   "cell_type": "code",
   "execution_count": 63,
   "metadata": {
    "collapsed": false
   },
   "outputs": [
    {
     "data": {
      "text/plain": [
       "'item'"
      ]
     },
     "execution_count": 63,
     "metadata": {},
     "output_type": "execute_result"
    }
   ],
   "source": [
    "tree[0][4].tag"
   ]
  },
  {
   "cell_type": "code",
   "execution_count": 73,
   "metadata": {
    "collapsed": false
   },
   "outputs": [
    {
     "name": "stdout",
     "output_type": "stream",
     "text": [
      "title: Clover improves soil quality, feeds biofuels crop \n",
      "\n",
      "\tDescription: A four-leaf clover might bring good luck, but a stand of Kura clover can produce healthier soil—in the long run, according to a South Dakota State University study. \n",
      "\n",
      "\tlink: https://phys.org/news/2019-03-clover-soil-quality-biofuels-crop.html\n",
      "\n",
      "title: Large Hadron Collider pushing computing to the limits \n",
      "\n",
      "\tDescription: At the end of 2018, the Large Hadron Collider (LHC) completed its second multi-year run (\"Run 2\") that saw the machine reach a proton–proton collision energy of 13 TeV, the highest ever reached by a particle accelerator. During this run, from 2015 to 2018, LHC experiments produced unprecedented volumes of data with the machine's performance exceeding all expectations. \n",
      "\n",
      "\tlink: https://phys.org/news/2019-03-large-hadron-collider-limits.html\n",
      "\n",
      "title: Catastrophic outlook for African savannahs due to rise in CO2 levels \n",
      "\n",
      "\tDescription: A ground-breaking research study looking at modern and ancient landscapes has discovered African plants could be facing mass extinction faster than once thought. \n",
      "\n",
      "\tlink: https://phys.org/news/2019-03-catastrophic-outlook-african-savannahs-due.html\n",
      "\n",
      "title: Smart voice assistant answers your questions \n",
      "\n",
      "\tDescription: Voice assistants are becoming more and more prevalent in every area of our lives. At this year's Hannover Messe, researchers from the Fraunhofer Institute for Intelligent Analysis and Information Systems IAIS are teaming up with au-tomaker Volkswagen to showcase a new voice interaction system that caters to domain-specific knowledge. Drawing on the techniques of \"informed\" machine learning, the system goes far beyond the capabilities of most Alexa, Siri & co. skills – and has been specifically designed for use in industry. The smart vehicle voice assistant is an example of how companies can use dialog systems to enable users to interact intuitively with technology and to develop new busi-ness models. The system will be on display – in a VW Tiguan – from April 1 to 5 at the Fraunhofer Booth C22 in Hall 2. \n",
      "\n",
      "\tlink: https://phys.org/news/2019-03-smart-voice.html\n",
      "\n",
      "title: What makes natural gas bottlenecks happen during extreme cold snaps \n",
      "\n",
      "\tDescription: When temperatures in Minneapolis fell to 27 below zero during the January 2019 polar vortex, the Xcel Energy utility urged all Minnesota customers to lower their thermostats to conserve natural gas needed for power generation. In Michigan, where it was also colder than the North Pole, General Motors even shut several factories as a precaution against outages. \n",
      "\n",
      "\tlink: https://phys.org/news/2019-03-natural-gas-bottlenecks-extreme-cold.html\n",
      "\n",
      "title: Chemical noses to detect and rid pollutants \n",
      "\n",
      "\tDescription: Scientists across Europe are joining forces to develop next-gen \"chemical noses\" that will detect and rid pollutants from the environment as part of a collaborative €2.9 million Horizon2020 FET-OPEN project (INITIO) that will bring together researchers from Trinity College Dublin and five other universities as well as experts from two SMEs. \n",
      "\n",
      "\tlink: https://phys.org/news/2019-03-chemical-noses-pollutants.html\n",
      "\n",
      "title: Electronic nose to sniff dogs for deadly tropical disease in Brazil \n",
      "\n",
      "\tDescription: Fewer dogs in Brazil may be euthanized unnecessarily after researchers showed that a new test is 95 percent accurate in identifying the deadly disease Leishmaniasis. \n",
      "\n",
      "\tlink: https://phys.org/news/2019-03-electronic-nose-dogs-deadly-tropical.html\n",
      "\n",
      "title: A small plesiosaur lived in Spain 125 million years ago \n",
      "\n",
      "\tDescription: Plesiosaurs, erroneously viewed as dinosaurs, inhabited all Earth's oceans between 200 million and 65 million years ago. In the Peninsula, only scarce remains of these long-necked reptiles had been found. Now, a group of palaeontologists has found the most abundant collection of fossils in Morella, Castellón. Among them, there is one vertebra that belonged to a type of plesiosaur never before discovered in the country, the leptocleidus. \n",
      "\n",
      "\tlink: https://phys.org/news/2019-03-small-plesiosaur-spain-million-years.html\n",
      "\n",
      "title: A clearer view of past climate from tree rings \n",
      "\n",
      "\tDescription: To see where the Earth's climate is headed, we have to see where it's been—and a new San Francisco State University study could offer a clearer picture. The study outlines a way to use a basic law of plant growth to improve estimates of historical temperature and rainfall from tree rings. The results could help answer one of the biggest questions facing climate scientists today. \n",
      "\n",
      "\tlink: https://phys.org/news/2019-03-clearer-view-climate-tree.html\n",
      "\n",
      "title: Koala-spotting drones proves a flying success \n",
      "\n",
      "\tDescription: QUT researchers have developed an innovative method for detecting koala populations using drones and infrared imaging that is more reliable and less invasive than traditional animal population monitoring techniques. \n",
      "\n",
      "\tlink: https://phys.org/news/2019-03-koala-spotting-drones-success.html\n",
      "\n",
      "title: Diversification after mass extinction \n",
      "\n",
      "\tDescription: A team led by LMU paleontologist Adriana López-Arbarello has identified three hitherto unknown fossil fish species in the Swiss Alps, which provide new insights into the diversification of the genus Eosemionotus. \n",
      "\n",
      "\tlink: https://phys.org/news/2019-03-diversification-mass-extinction.html\n",
      "\n",
      "title: Radiography of marine litter in Spanish waters \n",
      "\n",
      "\tDescription: Marine litter is a growing problem in the Mediterranean Sea, but few studies have focused on its composition, spatial distribution and temporal evolution. Now, a new study reveals that plastics are the main component in Spanish waters, and density is higher in the Alboran Sea than in the Levantine region or Catalonia, where accumulation has remained stable. \n",
      "\n",
      "\tlink: https://phys.org/news/2019-03-radiography-marine-litter-spanish.html\n",
      "\n",
      "title: Climate change: Narrate a history beyond the 'triumph of humanity' to find imaginative solutions \n",
      "\n",
      "\tDescription: One reason why people find it difficult to think about climate change and the future may be their understanding of human history. The present day is believed to be the product of centuries of development. These developments have led to a globalised world of complex states, in which daily life for most people is highly urbanised, consumerist and competitive. \n",
      "\n",
      "\tlink: https://phys.org/news/2019-03-climate-narrate-history-triumph-humanity.html\n",
      "\n",
      "title: Technique allows researchers to focus the action of drugs via infrared light \n",
      "\n",
      "\tDescription: Having absolute control of the activity of a molecule in an organism, or deciding when, where and how a drug is activated—these are some of the goals possible with so-called photoswitchable molecules, compounds that change their properties in the presence of certain light waves. The results of a study led by the Institute for Bioengineering of Catalonia (IBEC) together with the Universitat Autònoma de Barcelona (UAB), bring objective this one step closer. \n",
      "\n",
      "\tlink: https://phys.org/news/2019-03-technique-focus-action-drugs-infrared.html\n",
      "\n",
      "title: Atmospheric scientists offer climate change clues in new studies \n",
      "\n",
      "\tDescription: Two new studies authored by atmospheric scientists at UAlbany and published in Nature Communications may offer us clues for future climate change projections. \n",
      "\n",
      "\tlink: https://phys.org/news/2019-03-atmospheric-scientists-climate-clues.html\n",
      "\n",
      "title: Should online users be bound by their privacy agreements? \n",
      "\n",
      "\tDescription: The political economy of digital capitalism is largely premised on a new exchange: individuals enjoy cheap or free services and goods in exchange for their personal information. \n",
      "\n",
      "\tlink: https://phys.org/news/2019-03-online-users-bound-privacy-agreements.html\n",
      "\n",
      "title: New research area: How protein structures change due to normal forces \n",
      "\n",
      "\tDescription: Proteins made in our cells are folded into specific shapes so they can fulfill their functions. Scientists have discovered the static structures of over 100,000 proteins, but how they change in response to forces on the cell, like muscle contractions, is largely unknown. Matthias Wilmanns and colleagues at the European Molecular Biology Laboratory in Hamburg, Germany, developed methods to study the structure of a protein \"strain absorber\" as it changes during muscle contractions. They will present their work at the 63rd Biophysical Society Annual Meeting, to be held March 2—6, 2019 in Baltimore, Maryland. \n",
      "\n",
      "\tlink: https://phys.org/news/2019-03-area-protein-due.html\n",
      "\n",
      "title: A new approach to keeping crops, people safe \n",
      "\n",
      "\tDescription: Weeds cause tremendous damage in yield and productivity of crop plants. Losses from weeds account for more than $40 billion in annual revenue for corn and soybean crops alone in North America, according to the Weed Science Society of America. \n",
      "\n",
      "\tlink: https://phys.org/news/2019-03-approach-crops-people-safe.html\n",
      "\n",
      "title: How do we save ageing Australians from the heat? Greening our cities is a good start \n",
      "\n",
      "\tDescription: Heatwaves have killed more Australians than road accidents, fires, floods and all other natural disasters combined. Although recent research shows extreme cold is a worry in some parts of Australia, our hottest summer on record points to more heat-related deaths to come. The record heatwaves have highlighted the damaging effects of heat stress. Understandably, it's becoming a major public health challenge. \n",
      "\n",
      "\tlink: https://phys.org/news/2019-03-ageing-australians-greening-cities-good.html\n",
      "\n",
      "title: A highly sensitive new blood test can detect rare cancer proteins \n",
      "\n",
      "\tDescription: Proteins that normally reside inside cell nuclei have never been found in the blood, until now. A new blood test developed at the Johns Hopkins University by Shih-Chin Wang and Chih-Ping Mao—graduate students in Jie Xiao's lab in the Department of Biophysics and Chien-Fu Hung's lab in the Department of Pathology—can identify individual molecules in human blood samples with minimal detection errors. Among the molecules that they used their new test to find was a mutated protein thought to be restricted to the inside of cells, mostly within the nucleus. It is the first time that single-molecule imaging has been applied to visualize disease-causing molecules in blood. They will present their research at the 63rd Biophysical Society Annual Meeting, to be held March 2—6, 2019 in Baltimore, Maryland. \n",
      "\n",
      "\tlink: https://phys.org/news/2019-03-highly-sensitive-blood-rare-cancer.html\n",
      "\n",
      "title: Gene transcription machinery constrains DNA movements, study suggests \n",
      "\n",
      "\tDescription: Researchers in Japan have discovered that the DNA inside human cells moves around less when its genes are active. The study, which will be published March 1 in the Journal of Cell Biology, suggests that RNA polymerase II (RNAPII)—the key enzyme required to produce messenger RNA molecules from active genes—restricts the movement of DNA by organizing it into a network of interconnected domains. \n",
      "\n",
      "\tlink: https://phys.org/news/2019-03-gene-transcription-machinery-constrains-dna.html\n",
      "\n",
      "title: Scientists discover how surfaces may have helped early life on Earth begin \n",
      "\n",
      "\tDescription: On early earth, a series of spontaneous events needed to happen in order for life as we know it to begin. One of those phenomena is the formation of compartments enclosed by lipid membranes. New research by Irep Gözen, Elif Koksal, and colleagues at the University of Oslo reveals, for the first time, how these vesicles can self-assemble on surfaces without external input. The team discovered the most straight-forward and plausible explanation so far with the simplest assumptions. They will present their research at the 63rd Biophysical Society Annual Meeting, to be held March 2—6, 2019 in Baltimore, Maryland. \n",
      "\n",
      "\tlink: https://phys.org/news/2019-03-scientists-surfaces-early-life-earth.html\n",
      "\n",
      "title: Ducks offer researchers a unique opportunity to study human touch \n",
      "\n",
      "\tDescription: If it walks like a duck (or a goose or a swan), it can find food in mud without seeing or smelling it. These waterfowl bills are covered in skin that's a lot like the sensitive skin on the palms of our hands, and it can feel food in mud and murky water. Slav Bagriantsev, Eve Schneider, and Evan Anderson at Yale University are researching duck skin to learn more about how our sense of touch works. \n",
      "\n",
      "\tlink: https://phys.org/news/2019-03-ducks-unique-opportunity-human.html\n",
      "\n",
      "title: A polka-dot pattern appears in superfluid helium-3 in a thin cell when exposed to a magnetic field \n",
      "\n",
      "\tDescription: A team of researchers from Royal Holloway University of London and Cornell University has found that a polka-dot pattern emerges in superfluid helium-3 when it is placed in a thin cavity and subjected to a magnetic field. They have published their findings in the journal Physical Review Letters. \n",
      "\n",
      "\tlink: https://phys.org/news/2019-03-polka-dot-pattern-superfluid-helium-thin.html\n",
      "\n",
      "title: Green New Deal critics can't see the forest for the trees \n",
      "\n",
      "\tDescription: Everyone, it seems, has an opinion about the (new) Green New Deal. It's an ambitious plan to make America carbon-neutral  —as well as more equitable  —in a mere 10 years. \n",
      "\n",
      "\tlink: https://phys.org/news/2019-03-green-critics-forest-trees.html\n",
      "\n",
      "title: The Chinese coal 'ban' carries a significant political message \n",
      "\n",
      "\tDescription: As a standoff over Australian coal shipments through the northern Chinese port of Dalian continues, it underscores the extent of Australia's economic dependence on China. \n",
      "\n",
      "\tlink: https://phys.org/news/2019-03-chinese-coal-significant-political-message.html\n",
      "\n",
      "title: New tree ring analysis method may open insights to past climate \n",
      "\n",
      "\tDescription: Satellite imagery of earth's vegetation, measurements of carbon dioxide in the air and computer models all help scientists understand how climate is affecting carbon dynamics and the world's forests. But these technologies stretch back only decades, limiting our picture of long-term changes. \n",
      "\n",
      "\tlink: https://phys.org/news/2019-03-tree-analysis-method-insights-climate.html\n",
      "\n",
      "title: Scientists produce colorless reservoir of platinum metal-like single atoms in liquid \n",
      "\n",
      "\tDescription: Supported single metal atoms have attracted broad interest for their demonstrated high efficiency in single metal catalysis. The preparation of such catalysts, however, remains challenging, as the neutral metal atoms have a strong tendency to agglomerate to metal particles in typical preparations. \n",
      "\n",
      "\tlink: https://phys.org/news/2019-03-scientists-colorless-reservoir-platinum-metal-like.html\n",
      "\n",
      "title: Cell editors correct genetic errors \n",
      "\n",
      "\tDescription: Almost all land plants employ an army of cellular editors who correct errors in their genetic information. Researchers at the University of Bonn have now transferred parts of this machinery into a bacterium. Their results confirm a controversial thesis on the functioning of this widespread mechanism. They have now been published in the journal Communications Biology of the Nature Publishing Group. \n",
      "\n",
      "\tlink: https://phys.org/news/2019-03-cell-editors-genetic-errors.html\n",
      "\n",
      "title: A trap for positrons \n",
      "\n",
      "\tDescription: For the first time, scientists from the Technical University of Munich (TUM) and the Max Planck Institute for Plasma Physics (IPP) have succeeded in losslessly guiding positrons, the antiparticles of electrons, into a magnetic field trap. This is an important step toward creating a matter-antimatter plasma of electrons and positrons like the plasmas believed to occur near neutron stars and black holes. In an interview, Dr. Eve Stenson presents her research work. \n",
      "\n",
      "\tlink: https://phys.org/news/2019-03-positrons.html\n",
      "\n"
     ]
    }
   ],
   "source": [
    "for item in tree[0].iter('item'):\n",
    "    title = item[0].text\n",
    "    description = item[1].text\n",
    "    link = item[2].text\n",
    "    category = item[3].text\n",
    "    pubDate = item[4].text\n",
    "    guid = item[5].text\n",
    "    media = item[6].text\n",
    "    \n",
    "    \n",
    "    print('title: {} \\n\\n\\tDescription: {} \\n\\n\\tlink: {}\\n'.format(title,description,link))"
   ]
  },
  {
   "cell_type": "code",
   "execution_count": 74,
   "metadata": {
    "collapsed": false
   },
   "outputs": [
    {
     "ename": "FileNotFoundError",
     "evalue": "[Errno 2] No such file or directory: 'test.png'",
     "output_type": "error",
     "traceback": [
      "\u001b[0;31m---------------------------------------------------------------------------\u001b[0m",
      "\u001b[0;31mFileNotFoundError\u001b[0m                         Traceback (most recent call last)",
      "\u001b[0;32m<ipython-input-74-90c4c67be4c7>\u001b[0m in \u001b[0;36m<module>\u001b[0;34m()\u001b[0m\n\u001b[1;32m      1\u001b[0m \u001b[1;32mfrom\u001b[0m \u001b[0mIPython\u001b[0m\u001b[1;33m.\u001b[0m\u001b[0mdisplay\u001b[0m \u001b[1;32mimport\u001b[0m \u001b[0mImage\u001b[0m\u001b[1;33m\u001b[0m\u001b[0m\n\u001b[0;32m----> 2\u001b[0;31m \u001b[0mImage\u001b[0m\u001b[1;33m(\u001b[0m\u001b[0mfilename\u001b[0m\u001b[1;33m=\u001b[0m\u001b[1;34m'test.png'\u001b[0m\u001b[1;33m)\u001b[0m\u001b[1;33m\u001b[0m\u001b[0m\n\u001b[0m",
      "\u001b[0;32mC:\\Users\\mwatson\\AppData\\Local\\Continuum\\Anaconda3\\lib\\site-packages\\IPython\\core\\display.py\u001b[0m in \u001b[0;36m__init__\u001b[0;34m(self, data, url, filename, format, embed, width, height, retina, unconfined, metadata)\u001b[0m\n\u001b[1;32m    755\u001b[0m         \u001b[0mself\u001b[0m\u001b[1;33m.\u001b[0m\u001b[0munconfined\u001b[0m \u001b[1;33m=\u001b[0m \u001b[0munconfined\u001b[0m\u001b[1;33m\u001b[0m\u001b[0m\n\u001b[1;32m    756\u001b[0m         \u001b[0mself\u001b[0m\u001b[1;33m.\u001b[0m\u001b[0mmetadata\u001b[0m \u001b[1;33m=\u001b[0m \u001b[0mmetadata\u001b[0m\u001b[1;33m\u001b[0m\u001b[0m\n\u001b[0;32m--> 757\u001b[0;31m         \u001b[0msuper\u001b[0m\u001b[1;33m(\u001b[0m\u001b[0mImage\u001b[0m\u001b[1;33m,\u001b[0m \u001b[0mself\u001b[0m\u001b[1;33m)\u001b[0m\u001b[1;33m.\u001b[0m\u001b[0m__init__\u001b[0m\u001b[1;33m(\u001b[0m\u001b[0mdata\u001b[0m\u001b[1;33m=\u001b[0m\u001b[0mdata\u001b[0m\u001b[1;33m,\u001b[0m \u001b[0murl\u001b[0m\u001b[1;33m=\u001b[0m\u001b[0murl\u001b[0m\u001b[1;33m,\u001b[0m \u001b[0mfilename\u001b[0m\u001b[1;33m=\u001b[0m\u001b[0mfilename\u001b[0m\u001b[1;33m)\u001b[0m\u001b[1;33m\u001b[0m\u001b[0m\n\u001b[0m\u001b[1;32m    758\u001b[0m \u001b[1;33m\u001b[0m\u001b[0m\n\u001b[1;32m    759\u001b[0m         \u001b[1;32mif\u001b[0m \u001b[0mretina\u001b[0m\u001b[1;33m:\u001b[0m\u001b[1;33m\u001b[0m\u001b[0m\n",
      "\u001b[0;32mC:\\Users\\mwatson\\AppData\\Local\\Continuum\\Anaconda3\\lib\\site-packages\\IPython\\core\\display.py\u001b[0m in \u001b[0;36m__init__\u001b[0;34m(self, data, url, filename)\u001b[0m\n\u001b[1;32m    392\u001b[0m         \u001b[0mself\u001b[0m\u001b[1;33m.\u001b[0m\u001b[0mfilename\u001b[0m \u001b[1;33m=\u001b[0m \u001b[1;32mNone\u001b[0m \u001b[1;32mif\u001b[0m \u001b[0mfilename\u001b[0m \u001b[1;32mis\u001b[0m \u001b[1;32mNone\u001b[0m \u001b[1;32melse\u001b[0m \u001b[0municode_type\u001b[0m\u001b[1;33m(\u001b[0m\u001b[0mfilename\u001b[0m\u001b[1;33m)\u001b[0m\u001b[1;33m\u001b[0m\u001b[0m\n\u001b[1;32m    393\u001b[0m \u001b[1;33m\u001b[0m\u001b[0m\n\u001b[0;32m--> 394\u001b[0;31m         \u001b[0mself\u001b[0m\u001b[1;33m.\u001b[0m\u001b[0mreload\u001b[0m\u001b[1;33m(\u001b[0m\u001b[1;33m)\u001b[0m\u001b[1;33m\u001b[0m\u001b[0m\n\u001b[0m\u001b[1;32m    395\u001b[0m         \u001b[0mself\u001b[0m\u001b[1;33m.\u001b[0m\u001b[0m_check_data\u001b[0m\u001b[1;33m(\u001b[0m\u001b[1;33m)\u001b[0m\u001b[1;33m\u001b[0m\u001b[0m\n\u001b[1;32m    396\u001b[0m \u001b[1;33m\u001b[0m\u001b[0m\n",
      "\u001b[0;32mC:\\Users\\mwatson\\AppData\\Local\\Continuum\\Anaconda3\\lib\\site-packages\\IPython\\core\\display.py\u001b[0m in \u001b[0;36mreload\u001b[0;34m(self)\u001b[0m\n\u001b[1;32m    777\u001b[0m         \u001b[1;34m\"\"\"Reload the raw data from file or URL.\"\"\"\u001b[0m\u001b[1;33m\u001b[0m\u001b[0m\n\u001b[1;32m    778\u001b[0m         \u001b[1;32mif\u001b[0m \u001b[0mself\u001b[0m\u001b[1;33m.\u001b[0m\u001b[0membed\u001b[0m\u001b[1;33m:\u001b[0m\u001b[1;33m\u001b[0m\u001b[0m\n\u001b[0;32m--> 779\u001b[0;31m             \u001b[0msuper\u001b[0m\u001b[1;33m(\u001b[0m\u001b[0mImage\u001b[0m\u001b[1;33m,\u001b[0m\u001b[0mself\u001b[0m\u001b[1;33m)\u001b[0m\u001b[1;33m.\u001b[0m\u001b[0mreload\u001b[0m\u001b[1;33m(\u001b[0m\u001b[1;33m)\u001b[0m\u001b[1;33m\u001b[0m\u001b[0m\n\u001b[0m\u001b[1;32m    780\u001b[0m             \u001b[1;32mif\u001b[0m \u001b[0mself\u001b[0m\u001b[1;33m.\u001b[0m\u001b[0mretina\u001b[0m\u001b[1;33m:\u001b[0m\u001b[1;33m\u001b[0m\u001b[0m\n\u001b[1;32m    781\u001b[0m                 \u001b[0mself\u001b[0m\u001b[1;33m.\u001b[0m\u001b[0m_retina_shape\u001b[0m\u001b[1;33m(\u001b[0m\u001b[1;33m)\u001b[0m\u001b[1;33m\u001b[0m\u001b[0m\n",
      "\u001b[0;32mC:\\Users\\mwatson\\AppData\\Local\\Continuum\\Anaconda3\\lib\\site-packages\\IPython\\core\\display.py\u001b[0m in \u001b[0;36mreload\u001b[0;34m(self)\u001b[0m\n\u001b[1;32m    410\u001b[0m         \u001b[1;34m\"\"\"Reload the raw data from file or URL.\"\"\"\u001b[0m\u001b[1;33m\u001b[0m\u001b[0m\n\u001b[1;32m    411\u001b[0m         \u001b[1;32mif\u001b[0m \u001b[0mself\u001b[0m\u001b[1;33m.\u001b[0m\u001b[0mfilename\u001b[0m \u001b[1;32mis\u001b[0m \u001b[1;32mnot\u001b[0m \u001b[1;32mNone\u001b[0m\u001b[1;33m:\u001b[0m\u001b[1;33m\u001b[0m\u001b[0m\n\u001b[0;32m--> 412\u001b[0;31m             \u001b[1;32mwith\u001b[0m \u001b[0mopen\u001b[0m\u001b[1;33m(\u001b[0m\u001b[0mself\u001b[0m\u001b[1;33m.\u001b[0m\u001b[0mfilename\u001b[0m\u001b[1;33m,\u001b[0m \u001b[0mself\u001b[0m\u001b[1;33m.\u001b[0m\u001b[0m_read_flags\u001b[0m\u001b[1;33m)\u001b[0m \u001b[1;32mas\u001b[0m \u001b[0mf\u001b[0m\u001b[1;33m:\u001b[0m\u001b[1;33m\u001b[0m\u001b[0m\n\u001b[0m\u001b[1;32m    413\u001b[0m                 \u001b[0mself\u001b[0m\u001b[1;33m.\u001b[0m\u001b[0mdata\u001b[0m \u001b[1;33m=\u001b[0m \u001b[0mf\u001b[0m\u001b[1;33m.\u001b[0m\u001b[0mread\u001b[0m\u001b[1;33m(\u001b[0m\u001b[1;33m)\u001b[0m\u001b[1;33m\u001b[0m\u001b[0m\n\u001b[1;32m    414\u001b[0m         \u001b[1;32melif\u001b[0m \u001b[0mself\u001b[0m\u001b[1;33m.\u001b[0m\u001b[0murl\u001b[0m \u001b[1;32mis\u001b[0m \u001b[1;32mnot\u001b[0m \u001b[1;32mNone\u001b[0m\u001b[1;33m:\u001b[0m\u001b[1;33m\u001b[0m\u001b[0m\n",
      "\u001b[0;31mFileNotFoundError\u001b[0m: [Errno 2] No such file or directory: 'test.png'"
     ]
    }
   ],
   "source": []
  },
  {
   "cell_type": "code",
   "execution_count": null,
   "metadata": {
    "collapsed": false
   },
   "outputs": [],
   "source": []
  },
  {
   "cell_type": "code",
   "execution_count": null,
   "metadata": {
    "collapsed": true
   },
   "outputs": [],
   "source": []
  },
  {
   "cell_type": "code",
   "execution_count": null,
   "metadata": {
    "collapsed": true
   },
   "outputs": [],
   "source": []
  }
 ],
 "metadata": {
  "anaconda-cloud": {},
  "kernelspec": {
   "display_name": "Python [default]",
   "language": "python",
   "name": "python3"
  },
  "language_info": {
   "codemirror_mode": {
    "name": "ipython",
    "version": 3
   },
   "file_extension": ".py",
   "mimetype": "text/x-python",
   "name": "python",
   "nbconvert_exporter": "python",
   "pygments_lexer": "ipython3",
   "version": "3.5.4"
  }
 },
 "nbformat": 4,
 "nbformat_minor": 2
}
